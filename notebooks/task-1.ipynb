{
 "cells": [
  {
   "cell_type": "code",
   "execution_count": 6,
   "metadata": {},
   "outputs": [],
   "source": [
    "import logging"
   ]
  },
  {
   "cell_type": "code",
   "execution_count": 7,
   "metadata": {},
   "outputs": [],
   "source": [
    "# Configure logging\n",
    "logging.basicConfig(\n",
    "    filename='scraping.log',       # Log file path\n",
    "    filemode='a',                  # Append to the file, 'w' to overwrite\n",
    "    format='%(asctime)s - %(levelname)s - %(message)s', # Log format\n",
    "    level=logging.INFO             # Log level (INFO and above will be logged)\n",
    ")"
   ]
  },
  {
   "cell_type": "code",
   "execution_count": 8,
   "metadata": {},
   "outputs": [
    {
     "name": "stdout",
     "output_type": "stream",
     "text": [
      "Requirement already satisfied: requests in c:\\users\\mmm\\documents\\10 academy file\\kaim-week-7\\env\\lib\\site-packages (2.32.3)\n",
      "Requirement already satisfied: charset-normalizer<4,>=2 in c:\\users\\mmm\\documents\\10 academy file\\kaim-week-7\\env\\lib\\site-packages (from requests) (3.4.0)\n",
      "Requirement already satisfied: idna<4,>=2.5 in c:\\users\\mmm\\documents\\10 academy file\\kaim-week-7\\env\\lib\\site-packages (from requests) (3.10)\n",
      "Requirement already satisfied: urllib3<3,>=1.21.1 in c:\\users\\mmm\\documents\\10 academy file\\kaim-week-7\\env\\lib\\site-packages (from requests) (2.2.3)\n",
      "Requirement already satisfied: certifi>=2017.4.17 in c:\\users\\mmm\\documents\\10 academy file\\kaim-week-7\\env\\lib\\site-packages (from requests) (2024.8.30)\n",
      "Note: you may need to restart the kernel to use updated packages.\n"
     ]
    },
    {
     "name": "stderr",
     "output_type": "stream",
     "text": [
      "WARNING: Ignoring invalid distribution -ywin32 (c:\\users\\mmm\\documents\\10 academy file\\kaim-week-7\\env\\lib\\site-packages)\n",
      "WARNING: Ignoring invalid distribution -ywin32 (c:\\users\\mmm\\documents\\10 academy file\\kaim-week-7\\env\\lib\\site-packages)\n",
      "WARNING: Ignoring invalid distribution -ywin32 (c:\\users\\mmm\\documents\\10 academy file\\kaim-week-7\\env\\lib\\site-packages)\n"
     ]
    }
   ],
   "source": [
    "%pip install requests"
   ]
  },
  {
   "cell_type": "code",
   "execution_count": 9,
   "metadata": {},
   "outputs": [],
   "source": [
    "import requests\n",
    "from bs4 import BeautifulSoup\n",
    "import logging\n",
    "\n",
    "# Set up logging configuration\n",
    "logging.basicConfig(level=logging.INFO, format='%(asctime)s - %(levelname)s - %(message)s')\n",
    "\n",
    "def scrape_website(url):\n",
    "    try:\n",
    "        logging.info(f'Starting scraping for URL: {url}')\n",
    "        \n",
    "        # Make a request to the website\n",
    "        response = requests.get(url)\n",
    "        response.raise_for_status()  # Raise HTTPError for bad responses (4xx, 5xx)\n",
    "        logging.info(f'Successfully fetched URL: {url}')\n",
    "        \n",
    "        # Parse the content with BeautifulSoup\n",
    "        soup = BeautifulSoup(response.content, 'html.parser')\n",
    "        \n",
    "        # Example scraping logic - extracting titles (h2 elements)\n",
    "        titles = soup.find_all('h2')\n",
    "        logging.info(f'Found {len(titles)} titles on the page.')\n",
    "        \n",
    "        # Logging each title found\n",
    "        for title in titles:\n",
    "            logging.debug(f'Title: {title.get_text()}')\n",
    "\n",
    "    except requests.exceptions.HTTPError as e:\n",
    "        logging.error(f'HTTP Error: {e} - URL: {url}')\n",
    "    except requests.exceptions.ConnectionError as e:\n",
    "        logging.error(f'Connection Error: {e} - URL: {url}')\n",
    "    except requests.exceptions.Timeout as e:\n",
    "        logging.error(f'Timeout Error: {e} - URL: {url}')\n",
    "    except requests.exceptions.RequestException as e:\n",
    "        logging.error(f'General Request Error: {e} - URL: {url}')\n",
    "    except Exception as e:\n",
    "        logging.error(f'An error occurred: {e} - URL: {url}')\n",
    "\n",
    "# Example usage\n",
    "scrape_website('https://t.me/DoctorET') \n"
   ]
  }
 ],
 "metadata": {
  "kernelspec": {
   "display_name": "env",
   "language": "python",
   "name": "python3"
  },
  "language_info": {
   "codemirror_mode": {
    "name": "ipython",
    "version": 3
   },
   "file_extension": ".py",
   "mimetype": "text/x-python",
   "name": "python",
   "nbconvert_exporter": "python",
   "pygments_lexer": "ipython3",
   "version": "3.10.11"
  }
 },
 "nbformat": 4,
 "nbformat_minor": 2
}
